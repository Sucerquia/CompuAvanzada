{
  "nbformat": 4,
  "nbformat_minor": 0,
  "metadata": {
    "colab": {
      "name": "Daniel_Sucerquia_Gaviria.ipynb",
      "provenance": [],
      "authorship_tag": "ABX9TyMeefNmoVMt791IQv5qTqt5",
      "include_colab_link": true
    },
    "kernelspec": {
      "name": "python3",
      "display_name": "Python 3"
    }
  },
  "cells": [
    {
      "cell_type": "markdown",
      "metadata": {
        "id": "view-in-github",
        "colab_type": "text"
      },
      "source": [
        "<a href=\"https://colab.research.google.com/github/Sucerquia/CompuAvanzada/blob/master/Daniel_Sucerquia_Gaviria.ipynb\" target=\"_parent\"><img src=\"https://colab.research.google.com/assets/colab-badge.svg\" alt=\"Open In Colab\"/></a>"
      ]
    },
    {
      "cell_type": "markdown",
      "metadata": {
        "id": "DBCXyqLwBegX"
      },
      "source": [
        "mi letra griega favorita es $\\beta$, y la pendiente de una recta es:\n",
        "\n",
        "$$ m = \\frac{y_1-y_2}{x_1-x_2}$$"
      ]
    },
    {
      "cell_type": "code",
      "metadata": {
        "id": "CFRol9cTJG_U",
        "colab": {
          "base_uri": "https://localhost:8080/"
        },
        "outputId": "de1e1bed-778e-4e4f-dd74-0fd2f8b40b97"
      },
      "source": [
        "import numpy as np\n",
        "\n",
        "A = np.random.randn(4,3)\n",
        "B = np.sum(A, axis = 1, keepdims = True)\n",
        "B.shape"
      ],
      "execution_count": null,
      "outputs": [
        {
          "output_type": "execute_result",
          "data": {
            "text/plain": [
              "(4, 1)"
            ]
          },
          "metadata": {
            "tags": []
          },
          "execution_count": 2
        }
      ]
    },
    {
      "cell_type": "code",
      "metadata": {
        "colab": {
          "base_uri": "https://localhost:8080/"
        },
        "id": "7u459s002vhM",
        "outputId": "bea4d9c7-68f5-4d39-9178-60ad1c652154"
      },
      "source": [
        "import numpy as np\n",
        "np.multiply( np.array([1,2,3]), np.array([4,5,6]))"
      ],
      "execution_count": null,
      "outputs": [
        {
          "output_type": "execute_result",
          "data": {
            "text/plain": [
              "array([ 4, 10, 18])"
            ]
          },
          "metadata": {
            "tags": []
          },
          "execution_count": 6
        }
      ]
    },
    {
      "cell_type": "code",
      "metadata": {
        "id": "qTH59msX27Ev"
      },
      "source": [
        "import pandas as pd\n",
        "\n",
        "url=\"https://raw.githubusercontent.com/cs109/2014_data/master/countries.csv\"\n",
        "c=pd.read_csv(url)"
      ],
      "execution_count": null,
      "outputs": []
    }
  ]
}